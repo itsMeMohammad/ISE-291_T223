{
 "cells": [
  {
   "cell_type": "markdown",
   "metadata": {},
   "source": [
    "# ISE291 Project Report\n",
    "**<center>DONE BY:</center>**\n",
    "*<center>\n",
    "|    ID      | Name                           |\n",
    "|:----------:|:------------------------------:|\n",
    "| 202035760  | Mohammed Alshammari            |\n",
    "| 202165790  | Alamri, Mohammed Abdullah      |\n",
    "| 202183250  | Mohamed Ashraf Mohamed Serag   |\n",
    "| 202185410  | Syed Abiullah Fareed           |\n",
    "| 202185530  | Abdulrahman Al-Sendi           |</center>*\n",
    "\n",
    "*<center>Date: Saterday, August 12, 2023</center>*\n",
    "**<center>Implimenting Classification Methods of the Estimation of Obesity Levels based on Eating Habits and Physical Condition</center>**"
   ]
  },
  {
   "cell_type": "markdown",
   "metadata": {},
   "source": [
    "## Discovery:\n"
   ]
  },
  {
   "cell_type": "markdown",
   "metadata": {},
   "source": []
  },
  {
   "cell_type": "markdown",
   "metadata": {},
   "source": []
  },
  {
   "cell_type": "markdown",
   "metadata": {},
   "source": []
  },
  {
   "cell_type": "markdown",
   "metadata": {},
   "source": []
  },
  {
   "cell_type": "markdown",
   "metadata": {},
   "source": []
  }
 ],
 "metadata": {
  "language_info": {
   "name": "python"
  },
  "orig_nbformat": 4
 },
 "nbformat": 4,
 "nbformat_minor": 2
}
